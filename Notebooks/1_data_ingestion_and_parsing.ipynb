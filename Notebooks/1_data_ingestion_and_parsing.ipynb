{
 "cells": [
  {
   "cell_type": "code",
   "execution_count": 1,
   "id": "29dccd93-284c-4bdf-bd2c-e54557eeaa65",
   "metadata": {},
   "outputs": [],
   "source": [
    "import pandas as pd\n",
    "from matplotlib import pyplot as plt\n",
    "import seaborn as sns\n",
    "import json"
   ]
  },
  {
   "cell_type": "code",
   "execution_count": 2,
   "id": "0a6366ef-cb5e-498d-a0ea-69289881aea0",
   "metadata": {},
   "outputs": [
    {
     "data": {
      "text/plain": [
       "[{'_id': {'$oid': '681d38fed63812d4655f571a'},\n",
       "  'userWallet': '0x00000000001accfa9cef68cf5371a23025b6d4b6',\n",
       "  'network': 'polygon',\n",
       "  'protocol': 'aave_v2',\n",
       "  'txHash': '0x695c69acf608fbf5d38e48ca5535e118cc213a89e3d6d2e66e6b0e3b2e8d4190',\n",
       "  'logId': '0x695c69acf608fbf5d38e48ca5535e118cc213a89e3d6d2e66e6b0e3b2e8d4190_Deposit',\n",
       "  'timestamp': 1629178166,\n",
       "  'blockNumber': 1629178166,\n",
       "  'action': 'deposit',\n",
       "  'actionData': {'type': 'Deposit',\n",
       "   'amount': '2000000000',\n",
       "   'assetSymbol': 'USDC',\n",
       "   'assetPriceUSD': '0.9938318274296357543568636362026045',\n",
       "   'poolId': '0x2791bca1f2de4661ed88a30c99a7a9449aa84174',\n",
       "   'userId': '0x00000000001accfa9cef68cf5371a23025b6d4b6'},\n",
       "  '__v': 0,\n",
       "  'createdAt': {'$date': '2025-05-08T23:06:39.465Z'},\n",
       "  'updatedAt': {'$date': '2025-05-08T23:06:39.465Z'}},\n",
       " {'_id': {'$oid': '681aa70dd6df53021cc6f3c0'},\n",
       "  'userWallet': '0x000000000051d07a4fb3bd10121a343d85818da6',\n",
       "  'network': 'polygon',\n",
       "  'protocol': 'aave_v2',\n",
       "  'txHash': '0xe6fc162c86b2928b0ba9b82bda672763665152b9de9d92b0e1512a81b1129e3f',\n",
       "  'logId': '0xe6fc162c86b2928b0ba9b82bda672763665152b9de9d92b0e1512a81b1129e3f_Deposit',\n",
       "  'timestamp': 1621525013,\n",
       "  'blockNumber': 1621525013,\n",
       "  'action': 'deposit',\n",
       "  'actionData': {'type': 'Deposit',\n",
       "   'amount': '145000000000000000000',\n",
       "   'assetSymbol': 'WMATIC',\n",
       "   'assetPriceUSD': '1.970306761113742502077627085754506',\n",
       "   'poolId': '0x0d500b1d8e8ef31e21c99d1db9a6444d3adf1270',\n",
       "   'userId': '0x000000000051d07a4fb3bd10121a343d85818da6'},\n",
       "  '__v': 0,\n",
       "  'createdAt': {'$date': '2025-05-07T00:19:26.159Z'},\n",
       "  'updatedAt': {'$date': '2025-05-07T00:19:26.159Z'}}]"
      ]
     },
     "execution_count": 2,
     "metadata": {},
     "output_type": "execute_result"
    }
   ],
   "source": [
    "with open(\"datasets/user-wallet-transactions.json\") as f:\n",
    "    data = json.load(f)\n",
    "data[:2]"
   ]
  },
  {
   "cell_type": "raw",
   "id": "a2132c0e-2a86-4779-a219-b0b197095590",
   "metadata": {},
   "source": [
    "Insights\n",
    "    1) only useful columns for analysis are [wallet, network, protocol, action, amount_raw,\n",
    "        asset, asset_price_usd, user_id, to_id]"
   ]
  },
  {
   "cell_type": "code",
   "execution_count": 3,
   "id": "c6fd3b3a-e149-4387-b685-f7ae3b39db50",
   "metadata": {},
   "outputs": [],
   "source": [
    "def parse_tx(tx):\n",
    "    return {\n",
    "        \"wallet\": tx.get(\"userWallet\"),\n",
    "        \"network\": tx.get(\"network\"),\n",
    "        \"protocol\": tx.get(\"protocol\"),\n",
    "        \"action\": tx.get(\"action\"),\n",
    "        \"amount_raw\": tx.get(\"actionData\", {}).get(\"amount\"),\n",
    "        \"asset\": tx.get(\"actionData\", {}).get(\"assetSymbol\"),\n",
    "        \"asset_price_usd\": tx.get(\"actionData\", {}).get(\"assetPriceUSD\"),\n",
    "        \"user_id\": tx.get(\"actionData\", {}).get(\"userId\"),\n",
    "        \"to_id\": tx.get(\"actionData\", {}).get(\"toId\"),\n",
    "    }\n",
    "\n",
    "# Apply to all tx records\n",
    "parsed = [parse_tx(tx) for tx in data]\n",
    "\n",
    "df = pd.DataFrame(parsed)\n"
   ]
  },
  {
   "cell_type": "markdown",
   "id": "48e16da5-b282-492f-965c-250f07d02d02",
   "metadata": {},
   "source": [
    "#### Converting all the amounts of different asset types to usd "
   ]
  },
  {
   "cell_type": "code",
   "execution_count": 4,
   "id": "ca9bd992-8e72-45b5-99e5-a79e022885c1",
   "metadata": {},
   "outputs": [
    {
     "name": "stdout",
     "output_type": "stream",
     "text": [
      "wallet              object\n",
      "network             object\n",
      "protocol            object\n",
      "action              object\n",
      "amount_raw         float64\n",
      "asset               object\n",
      "asset_price_usd    float64\n",
      "user_id             object\n",
      "to_id               object\n",
      "dtype: object\n"
     ]
    }
   ],
   "source": [
    "# Convert asset_price_usd and asset_price_usd to float\n",
    "df[\"amount_raw\"] = pd.to_numeric(df[\"amount_raw\"], errors='coerce')\n",
    "\n",
    "df[\"asset_price_usd\"] = pd.to_numeric(df[\"asset_price_usd\"], errors='coerce')\n",
    "\n",
    "print(df.dtypes)"
   ]
  },
  {
   "cell_type": "code",
   "execution_count": 5,
   "id": "061ed4e3-5184-4b36-a545-c366a118a232",
   "metadata": {},
   "outputs": [],
   "source": [
    "asset_decimals = {\n",
    "    \"USDC\": 6,\n",
    "    \"WMATIC\": 18,\n",
    "    \"DAI\": 18,\n",
    "    \"WBTC\": 8,\n",
    "    \"WETH\": 18,\n",
    "    \"USDT\": 6,\n",
    "    \"WPOL\": 18,     \n",
    "    \"AAVE\": 18          \n",
    "}\n",
    "\n",
    "# function to do so\n",
    "\n",
    "def convert_raw_to_token(row):\n",
    "    if row[\"asset\"] == \"\":\n",
    "        return 0.0  # No amount to calculate for liquidation\n",
    "    decimals = asset_decimals.get(row[\"asset\"], 18)\n",
    "    try:\n",
    "        return int(row[\"amount_raw\"]) / (10 ** decimals)\n",
    "    except:\n",
    "        return 0.0\n",
    "        \n",
    "df[\"no_token\"] = df.apply(convert_raw_to_token, axis=1)"
   ]
  },
  {
   "cell_type": "code",
   "execution_count": 6,
   "id": "a3000610-86dc-4ec6-b5b6-cd29474889b5",
   "metadata": {},
   "outputs": [
    {
     "data": {
      "text/html": [
       "<div>\n",
       "<style scoped>\n",
       "    .dataframe tbody tr th:only-of-type {\n",
       "        vertical-align: middle;\n",
       "    }\n",
       "\n",
       "    .dataframe tbody tr th {\n",
       "        vertical-align: top;\n",
       "    }\n",
       "\n",
       "    .dataframe thead th {\n",
       "        text-align: right;\n",
       "    }\n",
       "</style>\n",
       "<table border=\"1\" class=\"dataframe\">\n",
       "  <thead>\n",
       "    <tr style=\"text-align: right;\">\n",
       "      <th></th>\n",
       "      <th>wallet</th>\n",
       "      <th>network</th>\n",
       "      <th>protocol</th>\n",
       "      <th>action</th>\n",
       "      <th>amount_raw</th>\n",
       "      <th>asset</th>\n",
       "      <th>asset_price_usd</th>\n",
       "      <th>user_id</th>\n",
       "      <th>to_id</th>\n",
       "      <th>no_token</th>\n",
       "    </tr>\n",
       "  </thead>\n",
       "  <tbody>\n",
       "    <tr>\n",
       "      <th>0</th>\n",
       "      <td>0x00000000001accfa9cef68cf5371a23025b6d4b6</td>\n",
       "      <td>polygon</td>\n",
       "      <td>aave_v2</td>\n",
       "      <td>deposit</td>\n",
       "      <td>2.000000e+09</td>\n",
       "      <td>USDC</td>\n",
       "      <td>0.993832</td>\n",
       "      <td>0x00000000001accfa9cef68cf5371a23025b6d4b6</td>\n",
       "      <td>None</td>\n",
       "      <td>2000.000000</td>\n",
       "    </tr>\n",
       "    <tr>\n",
       "      <th>1</th>\n",
       "      <td>0x000000000051d07a4fb3bd10121a343d85818da6</td>\n",
       "      <td>polygon</td>\n",
       "      <td>aave_v2</td>\n",
       "      <td>deposit</td>\n",
       "      <td>1.450000e+20</td>\n",
       "      <td>WMATIC</td>\n",
       "      <td>1.970307</td>\n",
       "      <td>0x000000000051d07a4fb3bd10121a343d85818da6</td>\n",
       "      <td>None</td>\n",
       "      <td>145.000000</td>\n",
       "    </tr>\n",
       "    <tr>\n",
       "      <th>2</th>\n",
       "      <td>0x000000000096026fb41fc39f9875d164bd82e2dc</td>\n",
       "      <td>polygon</td>\n",
       "      <td>aave_v2</td>\n",
       "      <td>deposit</td>\n",
       "      <td>1.000000e+15</td>\n",
       "      <td>WMATIC</td>\n",
       "      <td>0.922377</td>\n",
       "      <td>0x000000000096026fb41fc39f9875d164bd82e2dc</td>\n",
       "      <td>None</td>\n",
       "      <td>0.001000</td>\n",
       "    </tr>\n",
       "    <tr>\n",
       "      <th>3</th>\n",
       "      <td>0x000000000096026fb41fc39f9875d164bd82e2dc</td>\n",
       "      <td>polygon</td>\n",
       "      <td>aave_v2</td>\n",
       "      <td>deposit</td>\n",
       "      <td>4.000000e+15</td>\n",
       "      <td>WMATIC</td>\n",
       "      <td>1.057483</td>\n",
       "      <td>0x000000000096026fb41fc39f9875d164bd82e2dc</td>\n",
       "      <td>None</td>\n",
       "      <td>0.004000</td>\n",
       "    </tr>\n",
       "    <tr>\n",
       "      <th>4</th>\n",
       "      <td>0x0000000000e189dd664b9ab08a33c4839953852c</td>\n",
       "      <td>polygon</td>\n",
       "      <td>aave_v2</td>\n",
       "      <td>redeemunderlying</td>\n",
       "      <td>5.015480e+05</td>\n",
       "      <td>USDC</td>\n",
       "      <td>1.002130</td>\n",
       "      <td>0x7f90122bf0700f9e7e1f688fe926940e8839f353</td>\n",
       "      <td>0x0000000000e189dd664b9ab08a33c4839953852c</td>\n",
       "      <td>0.501548</td>\n",
       "    </tr>\n",
       "  </tbody>\n",
       "</table>\n",
       "</div>"
      ],
      "text/plain": [
       "                                       wallet  network protocol  \\\n",
       "0  0x00000000001accfa9cef68cf5371a23025b6d4b6  polygon  aave_v2   \n",
       "1  0x000000000051d07a4fb3bd10121a343d85818da6  polygon  aave_v2   \n",
       "2  0x000000000096026fb41fc39f9875d164bd82e2dc  polygon  aave_v2   \n",
       "3  0x000000000096026fb41fc39f9875d164bd82e2dc  polygon  aave_v2   \n",
       "4  0x0000000000e189dd664b9ab08a33c4839953852c  polygon  aave_v2   \n",
       "\n",
       "             action    amount_raw   asset  asset_price_usd  \\\n",
       "0           deposit  2.000000e+09    USDC         0.993832   \n",
       "1           deposit  1.450000e+20  WMATIC         1.970307   \n",
       "2           deposit  1.000000e+15  WMATIC         0.922377   \n",
       "3           deposit  4.000000e+15  WMATIC         1.057483   \n",
       "4  redeemunderlying  5.015480e+05    USDC         1.002130   \n",
       "\n",
       "                                      user_id  \\\n",
       "0  0x00000000001accfa9cef68cf5371a23025b6d4b6   \n",
       "1  0x000000000051d07a4fb3bd10121a343d85818da6   \n",
       "2  0x000000000096026fb41fc39f9875d164bd82e2dc   \n",
       "3  0x000000000096026fb41fc39f9875d164bd82e2dc   \n",
       "4  0x7f90122bf0700f9e7e1f688fe926940e8839f353   \n",
       "\n",
       "                                        to_id     no_token  \n",
       "0                                        None  2000.000000  \n",
       "1                                        None   145.000000  \n",
       "2                                        None     0.001000  \n",
       "3                                        None     0.004000  \n",
       "4  0x0000000000e189dd664b9ab08a33c4839953852c     0.501548  "
      ]
     },
     "execution_count": 6,
     "metadata": {},
     "output_type": "execute_result"
    }
   ],
   "source": [
    "df.head()"
   ]
  },
  {
   "cell_type": "code",
   "execution_count": 7,
   "id": "cda77b8f-0f01-4d43-9622-85369fdf0341",
   "metadata": {},
   "outputs": [],
   "source": [
    "df.to_csv(\"datasets//parsed_data.csv\", index=False)"
   ]
  }
 ],
 "metadata": {
  "kernelspec": {
   "display_name": "Python 3 (ipykernel)",
   "language": "python",
   "name": "python3"
  },
  "language_info": {
   "codemirror_mode": {
    "name": "ipython",
    "version": 3
   },
   "file_extension": ".py",
   "mimetype": "text/x-python",
   "name": "python",
   "nbconvert_exporter": "python",
   "pygments_lexer": "ipython3",
   "version": "3.13.5"
  }
 },
 "nbformat": 4,
 "nbformat_minor": 5
}
